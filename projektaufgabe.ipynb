{
 "cells": [
  {
   "cell_type": "markdown",
   "id": "de8e8370-9503-4b9b-9931-b92ea4fa5227",
   "metadata": {},
   "source": [
    "## Projektaufgabe im Modul *Python | Grundlagen*"
   ]
  },
  {
   "cell_type": "markdown",
   "id": "76c88f93-9b44-455e-9758-75c23eaa7b9e",
   "metadata": {},
   "source": [
    "Es ist ein Python-Programm mit den folgenden Merkmalen zu entwickeln:\n",
    "\n",
    "- Gegeben ist die Datei *names.csv* (Quelle: https://data.world), die zum Download im Kurs bereitsteht.<br>Achtung: Diese Datei hat eine Größe von 109 MB und kann nicht mit Excel geöffnet werden.\n",
    "- Aus dieser Datei soll das Programm Daten einlesen.\n",
    "- Der Benutzer soll während des Programmlaufs Daten per Tastatur eingeben um z.B. nach bestimmten Daten zu filtern.\n",
    "- In dem Programm werden Daten unterschiedlichen Typs verarbeitet. Es werden Berechnungen im Programm durchgeführt.\n",
    "- Daten werden auf dem Bildschirm formatiert und in Tabellenform ausgegeben.\n",
    "- Daten werden in eine CSV-Datei ausgegeben.\n",
    "- Die Projektarbeit wird als JupyterNotebook abgegeben.\n",
    "\n",
    "Zur Benotung der Projektarbeit gelten die im Kurs veröffentlichten Aspekte.\n",
    "<br>Weitere Vorgaben zur Projektarbeit gibt es nicht. Somit ist noch Platz für Kreativität gegeben.\n",
    "<br>Allerdings ist die Komplexität des Programms mitentscheidend für die Note der Projektarbeit.\n",
    "\n",
    "Hinweise zur Datei *names.csv*:\n",
    "- Es handelt sich um eine Geburtenstatistik der USA.\n",
    "- Aufgelistet sind die Häufigkeiten von Namen, die an Neugeborene vergeben wurden.\n",
    "- In Spalte 1 ist der State-Code des jeweiligen US-Bundesstaates angegeben.\n",
    "- Spalte 2 enthält die Angabe des Geschlechts des Neugeborenen.\n",
    "- In Spalte 3 findet sich das Geburtsjahr.\n",
    "- Spalte 4 beinhaltet den Namen des Neugeborenen.\n",
    "- Spalte 5 gibt an, wie häufig der Name im jeweiligen Jahr vergeben wurde."
   ]
  },
  {
   "cell_type": "code",
   "execution_count": null,
   "id": "9ff78475-f090-4cb0-b993-1b40689f7bf1",
   "metadata": {},
   "outputs": [],
   "source": []
  }
 ],
 "metadata": {
  "kernelspec": {
   "display_name": "Python 3 (ipykernel)",
   "language": "python",
   "name": "python3"
  },
  "language_info": {
   "codemirror_mode": {
    "name": "ipython",
    "version": 3
   },
   "file_extension": ".py",
   "mimetype": "text/x-python",
   "name": "python",
   "nbconvert_exporter": "python",
   "pygments_lexer": "ipython3",
   "version": "3.11.0"
  }
 },
 "nbformat": 4,
 "nbformat_minor": 5
}
