{
 "cells": [
  {
   "cell_type": "code",
   "execution_count": null,
   "id": "a4f8521c",
   "metadata": {},
   "outputs": [],
   "source": [
    "\n",
    "def main():\n",
    "   \n",
    "    while True:\n",
    "       \n",
    "        choice = input(\"Do you want to read all birth data? [y/n]\").strip().lower() \n",
    "        while choice not in ['y', 'n']:\n",
    "            print(f\"Incorrect input. Please answer with 'y' (yes) or 'n' (no).\")\n",
    "            choice = input(\"Do you want to read all birth data? [y/n]\").strip().lower()   \n",
    "        \n",
    "        if choice == 'y':\n",
    "                with open(\"names.csv\", \"r\") as file:\n",
    "                    data = file.read()\n",
    "                    print(data)\n",
    "\n",
    "        elif choice == 'n':\n",
    "                print(\"Exiting the program.\")\n",
    "                break\n",
    "        else:\n",
    "                print(\"Unexpected error. Exiting the program.\")\n",
    "                break   \n",
    "    \n",
    "    def sort_data(column, ascending=True):\n",
    "        import csv\n",
    "        with open(\"names.csv\", \"r\") as file:\n",
    "            reader = csv.DictReader(file)\n",
    "            sorted_data = sorted(reader, key=lambda x: x[column], reverse=not ascending)\n",
    "            for row in sorted_data:\n",
    "                print(row)\n",
    "\n",
    "        "
   ]
  }
 ],
 "metadata": {
  "language_info": {
   "name": "python"
  }
 },
 "nbformat": 4,
 "nbformat_minor": 5
}
