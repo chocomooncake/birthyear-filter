{
 "cells": [
  {
   "cell_type": "code",
   "execution_count": null,
   "id": "59f08aee",
   "metadata": {},
   "outputs": [],
   "source": [
    "# ===== CONSTANTS =====\n",
    "cache_file = \"cache.csv\"\n",
    "source_file = \"names.csv\"\n",
    "\n",
    "# ... (rest of the code as above) ...\n",
    "# For brevity, assume entire commented code is here\n"
   ]
  }
 ],
 "metadata": {},
 "nbformat": 4,
 "nbformat_minor": 5
}
