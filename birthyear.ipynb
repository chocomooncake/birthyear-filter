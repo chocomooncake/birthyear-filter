{
 "cells": [
  {
   "cell_type": "code",
   "execution_count": null,
   "id": "a4f8521c",
   "metadata": {},
   "outputs": [],
   "source": [
    "with open(\"names.csv\",\"r\") as data:\n",
    "    for line in data:\n",
    "    print(line.strip())\n"
   ]
  }
 ],
 "metadata": {
  "language_info": {
   "name": "python"
  }
 },
 "nbformat": 4,
 "nbformat_minor": 5
}
